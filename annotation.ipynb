{
  "nbformat": 4,
  "nbformat_minor": 0,
  "metadata": {
    "colab": {
      "name": "annotation",
      "provenance": [],
      "collapsed_sections": []
    },
    "kernelspec": {
      "name": "python3",
      "display_name": "Python 3"
    },
    "language_info": {
      "name": "python"
    },
    "widgets": {
      "application/vnd.jupyter.widget-state+json": {
        "ee175891668e4eae842d604f93b4ccf3": {
          "model_module": "@jupyter-widgets/controls",
          "model_name": "HBoxModel",
          "model_module_version": "1.5.0",
          "state": {
            "_view_name": "HBoxView",
            "_dom_classes": [],
            "_model_name": "HBoxModel",
            "_view_module": "@jupyter-widgets/controls",
            "_model_module_version": "1.5.0",
            "_view_count": null,
            "_view_module_version": "1.5.0",
            "box_style": "",
            "layout": "IPY_MODEL_87a80114de2d473e86d9064c90b995d0",
            "_model_module": "@jupyter-widgets/controls",
            "children": [
              "IPY_MODEL_44f98e78d2ba4425a7273738bbf1c79b",
              "IPY_MODEL_2190b0aece8641cb8e97736f8fb584a3",
              "IPY_MODEL_e8c57f7b10a64e2fadc56643ed24ab20"
            ]
          }
        },
        "87a80114de2d473e86d9064c90b995d0": {
          "model_module": "@jupyter-widgets/base",
          "model_name": "LayoutModel",
          "model_module_version": "1.2.0",
          "state": {
            "_view_name": "LayoutView",
            "grid_template_rows": null,
            "right": null,
            "justify_content": null,
            "_view_module": "@jupyter-widgets/base",
            "overflow": null,
            "_model_module_version": "1.2.0",
            "_view_count": null,
            "flex_flow": null,
            "width": null,
            "min_width": null,
            "border": null,
            "align_items": null,
            "bottom": null,
            "_model_module": "@jupyter-widgets/base",
            "top": null,
            "grid_column": null,
            "overflow_y": null,
            "overflow_x": null,
            "grid_auto_flow": null,
            "grid_area": null,
            "grid_template_columns": null,
            "flex": null,
            "_model_name": "LayoutModel",
            "justify_items": null,
            "grid_row": null,
            "max_height": null,
            "align_content": null,
            "visibility": null,
            "align_self": null,
            "height": null,
            "min_height": null,
            "padding": null,
            "grid_auto_rows": null,
            "grid_gap": null,
            "max_width": null,
            "order": null,
            "_view_module_version": "1.2.0",
            "grid_template_areas": null,
            "object_position": null,
            "object_fit": null,
            "grid_auto_columns": null,
            "margin": null,
            "display": null,
            "left": null
          }
        },
        "44f98e78d2ba4425a7273738bbf1c79b": {
          "model_module": "@jupyter-widgets/controls",
          "model_name": "HTMLModel",
          "model_module_version": "1.5.0",
          "state": {
            "_view_name": "HTMLView",
            "style": "IPY_MODEL_ebe3923207d248899e373b5a338d59c0",
            "_dom_classes": [],
            "description": "",
            "_model_name": "HTMLModel",
            "placeholder": "​",
            "_view_module": "@jupyter-widgets/controls",
            "_model_module_version": "1.5.0",
            "value": "Downloading https://raw.githubusercontent.com/stanfordnlp/stanza-resources/main/resources_1.3.0.json: ",
            "_view_count": null,
            "_view_module_version": "1.5.0",
            "description_tooltip": null,
            "_model_module": "@jupyter-widgets/controls",
            "layout": "IPY_MODEL_1b91835e7e054f86ba4b96d3a90f8777"
          }
        },
        "2190b0aece8641cb8e97736f8fb584a3": {
          "model_module": "@jupyter-widgets/controls",
          "model_name": "FloatProgressModel",
          "model_module_version": "1.5.0",
          "state": {
            "_view_name": "ProgressView",
            "style": "IPY_MODEL_0ca72541fc0f4c26b65cc2755c46d6a8",
            "_dom_classes": [],
            "description": "",
            "_model_name": "FloatProgressModel",
            "bar_style": "success",
            "max": 24167,
            "_view_module": "@jupyter-widgets/controls",
            "_model_module_version": "1.5.0",
            "value": 24167,
            "_view_count": null,
            "_view_module_version": "1.5.0",
            "orientation": "horizontal",
            "min": 0,
            "description_tooltip": null,
            "_model_module": "@jupyter-widgets/controls",
            "layout": "IPY_MODEL_91ccb1c8b4844e1c82d0aa31bd4fb4aa"
          }
        },
        "e8c57f7b10a64e2fadc56643ed24ab20": {
          "model_module": "@jupyter-widgets/controls",
          "model_name": "HTMLModel",
          "model_module_version": "1.5.0",
          "state": {
            "_view_name": "HTMLView",
            "style": "IPY_MODEL_793807e73a0d4731bb73b4f053a04f12",
            "_dom_classes": [],
            "description": "",
            "_model_name": "HTMLModel",
            "placeholder": "​",
            "_view_module": "@jupyter-widgets/controls",
            "_model_module_version": "1.5.0",
            "value": " 141k/? [00:00&lt;00:00, 3.02MB/s]",
            "_view_count": null,
            "_view_module_version": "1.5.0",
            "description_tooltip": null,
            "_model_module": "@jupyter-widgets/controls",
            "layout": "IPY_MODEL_e366767d7a304691b1d44937289dac2f"
          }
        },
        "ebe3923207d248899e373b5a338d59c0": {
          "model_module": "@jupyter-widgets/controls",
          "model_name": "DescriptionStyleModel",
          "model_module_version": "1.5.0",
          "state": {
            "_view_name": "StyleView",
            "_model_name": "DescriptionStyleModel",
            "description_width": "",
            "_view_module": "@jupyter-widgets/base",
            "_model_module_version": "1.5.0",
            "_view_count": null,
            "_view_module_version": "1.2.0",
            "_model_module": "@jupyter-widgets/controls"
          }
        },
        "1b91835e7e054f86ba4b96d3a90f8777": {
          "model_module": "@jupyter-widgets/base",
          "model_name": "LayoutModel",
          "model_module_version": "1.2.0",
          "state": {
            "_view_name": "LayoutView",
            "grid_template_rows": null,
            "right": null,
            "justify_content": null,
            "_view_module": "@jupyter-widgets/base",
            "overflow": null,
            "_model_module_version": "1.2.0",
            "_view_count": null,
            "flex_flow": null,
            "width": null,
            "min_width": null,
            "border": null,
            "align_items": null,
            "bottom": null,
            "_model_module": "@jupyter-widgets/base",
            "top": null,
            "grid_column": null,
            "overflow_y": null,
            "overflow_x": null,
            "grid_auto_flow": null,
            "grid_area": null,
            "grid_template_columns": null,
            "flex": null,
            "_model_name": "LayoutModel",
            "justify_items": null,
            "grid_row": null,
            "max_height": null,
            "align_content": null,
            "visibility": null,
            "align_self": null,
            "height": null,
            "min_height": null,
            "padding": null,
            "grid_auto_rows": null,
            "grid_gap": null,
            "max_width": null,
            "order": null,
            "_view_module_version": "1.2.0",
            "grid_template_areas": null,
            "object_position": null,
            "object_fit": null,
            "grid_auto_columns": null,
            "margin": null,
            "display": null,
            "left": null
          }
        },
        "0ca72541fc0f4c26b65cc2755c46d6a8": {
          "model_module": "@jupyter-widgets/controls",
          "model_name": "ProgressStyleModel",
          "model_module_version": "1.5.0",
          "state": {
            "_view_name": "StyleView",
            "_model_name": "ProgressStyleModel",
            "description_width": "",
            "_view_module": "@jupyter-widgets/base",
            "_model_module_version": "1.5.0",
            "_view_count": null,
            "_view_module_version": "1.2.0",
            "bar_color": null,
            "_model_module": "@jupyter-widgets/controls"
          }
        },
        "91ccb1c8b4844e1c82d0aa31bd4fb4aa": {
          "model_module": "@jupyter-widgets/base",
          "model_name": "LayoutModel",
          "model_module_version": "1.2.0",
          "state": {
            "_view_name": "LayoutView",
            "grid_template_rows": null,
            "right": null,
            "justify_content": null,
            "_view_module": "@jupyter-widgets/base",
            "overflow": null,
            "_model_module_version": "1.2.0",
            "_view_count": null,
            "flex_flow": null,
            "width": null,
            "min_width": null,
            "border": null,
            "align_items": null,
            "bottom": null,
            "_model_module": "@jupyter-widgets/base",
            "top": null,
            "grid_column": null,
            "overflow_y": null,
            "overflow_x": null,
            "grid_auto_flow": null,
            "grid_area": null,
            "grid_template_columns": null,
            "flex": null,
            "_model_name": "LayoutModel",
            "justify_items": null,
            "grid_row": null,
            "max_height": null,
            "align_content": null,
            "visibility": null,
            "align_self": null,
            "height": null,
            "min_height": null,
            "padding": null,
            "grid_auto_rows": null,
            "grid_gap": null,
            "max_width": null,
            "order": null,
            "_view_module_version": "1.2.0",
            "grid_template_areas": null,
            "object_position": null,
            "object_fit": null,
            "grid_auto_columns": null,
            "margin": null,
            "display": null,
            "left": null
          }
        },
        "793807e73a0d4731bb73b4f053a04f12": {
          "model_module": "@jupyter-widgets/controls",
          "model_name": "DescriptionStyleModel",
          "model_module_version": "1.5.0",
          "state": {
            "_view_name": "StyleView",
            "_model_name": "DescriptionStyleModel",
            "description_width": "",
            "_view_module": "@jupyter-widgets/base",
            "_model_module_version": "1.5.0",
            "_view_count": null,
            "_view_module_version": "1.2.0",
            "_model_module": "@jupyter-widgets/controls"
          }
        },
        "e366767d7a304691b1d44937289dac2f": {
          "model_module": "@jupyter-widgets/base",
          "model_name": "LayoutModel",
          "model_module_version": "1.2.0",
          "state": {
            "_view_name": "LayoutView",
            "grid_template_rows": null,
            "right": null,
            "justify_content": null,
            "_view_module": "@jupyter-widgets/base",
            "overflow": null,
            "_model_module_version": "1.2.0",
            "_view_count": null,
            "flex_flow": null,
            "width": null,
            "min_width": null,
            "border": null,
            "align_items": null,
            "bottom": null,
            "_model_module": "@jupyter-widgets/base",
            "top": null,
            "grid_column": null,
            "overflow_y": null,
            "overflow_x": null,
            "grid_auto_flow": null,
            "grid_area": null,
            "grid_template_columns": null,
            "flex": null,
            "_model_name": "LayoutModel",
            "justify_items": null,
            "grid_row": null,
            "max_height": null,
            "align_content": null,
            "visibility": null,
            "align_self": null,
            "height": null,
            "min_height": null,
            "padding": null,
            "grid_auto_rows": null,
            "grid_gap": null,
            "max_width": null,
            "order": null,
            "_view_module_version": "1.2.0",
            "grid_template_areas": null,
            "object_position": null,
            "object_fit": null,
            "grid_auto_columns": null,
            "margin": null,
            "display": null,
            "left": null
          }
        },
        "2b82f52b2710427b968899ebcc854107": {
          "model_module": "@jupyter-widgets/controls",
          "model_name": "HBoxModel",
          "model_module_version": "1.5.0",
          "state": {
            "_view_name": "HBoxView",
            "_dom_classes": [],
            "_model_name": "HBoxModel",
            "_view_module": "@jupyter-widgets/controls",
            "_model_module_version": "1.5.0",
            "_view_count": null,
            "_view_module_version": "1.5.0",
            "box_style": "",
            "layout": "IPY_MODEL_c005d1975c42406395e28e1d3550e702",
            "_model_module": "@jupyter-widgets/controls",
            "children": [
              "IPY_MODEL_7f871a9e780349de9056a7229d373765",
              "IPY_MODEL_4565a2aec0b04248b4139d4501d84326",
              "IPY_MODEL_684d6e97d55e495391242340193df668"
            ]
          }
        },
        "c005d1975c42406395e28e1d3550e702": {
          "model_module": "@jupyter-widgets/base",
          "model_name": "LayoutModel",
          "model_module_version": "1.2.0",
          "state": {
            "_view_name": "LayoutView",
            "grid_template_rows": null,
            "right": null,
            "justify_content": null,
            "_view_module": "@jupyter-widgets/base",
            "overflow": null,
            "_model_module_version": "1.2.0",
            "_view_count": null,
            "flex_flow": null,
            "width": null,
            "min_width": null,
            "border": null,
            "align_items": null,
            "bottom": null,
            "_model_module": "@jupyter-widgets/base",
            "top": null,
            "grid_column": null,
            "overflow_y": null,
            "overflow_x": null,
            "grid_auto_flow": null,
            "grid_area": null,
            "grid_template_columns": null,
            "flex": null,
            "_model_name": "LayoutModel",
            "justify_items": null,
            "grid_row": null,
            "max_height": null,
            "align_content": null,
            "visibility": null,
            "align_self": null,
            "height": null,
            "min_height": null,
            "padding": null,
            "grid_auto_rows": null,
            "grid_gap": null,
            "max_width": null,
            "order": null,
            "_view_module_version": "1.2.0",
            "grid_template_areas": null,
            "object_position": null,
            "object_fit": null,
            "grid_auto_columns": null,
            "margin": null,
            "display": null,
            "left": null
          }
        },
        "7f871a9e780349de9056a7229d373765": {
          "model_module": "@jupyter-widgets/controls",
          "model_name": "HTMLModel",
          "model_module_version": "1.5.0",
          "state": {
            "_view_name": "HTMLView",
            "style": "IPY_MODEL_c7a641865b19469991dcb6ea294259cb",
            "_dom_classes": [],
            "description": "",
            "_model_name": "HTMLModel",
            "placeholder": "​",
            "_view_module": "@jupyter-widgets/controls",
            "_model_module_version": "1.5.0",
            "value": "Downloading https://huggingface.co/stanfordnlp/stanza-ru/resolve/v1.3.0/models/default.zip: 100%",
            "_view_count": null,
            "_view_module_version": "1.5.0",
            "description_tooltip": null,
            "_model_module": "@jupyter-widgets/controls",
            "layout": "IPY_MODEL_2adba635a5e3482d904ac775669fb44a"
          }
        },
        "4565a2aec0b04248b4139d4501d84326": {
          "model_module": "@jupyter-widgets/controls",
          "model_name": "FloatProgressModel",
          "model_module_version": "1.5.0",
          "state": {
            "_view_name": "ProgressView",
            "style": "IPY_MODEL_e6599a2296ed4ce196a39ba5eac52b0c",
            "_dom_classes": [],
            "description": "",
            "_model_name": "FloatProgressModel",
            "bar_style": "success",
            "max": 574067219,
            "_view_module": "@jupyter-widgets/controls",
            "_model_module_version": "1.5.0",
            "value": 574067219,
            "_view_count": null,
            "_view_module_version": "1.5.0",
            "orientation": "horizontal",
            "min": 0,
            "description_tooltip": null,
            "_model_module": "@jupyter-widgets/controls",
            "layout": "IPY_MODEL_556d85db2e5a4dafb6bbbe75cdb49389"
          }
        },
        "684d6e97d55e495391242340193df668": {
          "model_module": "@jupyter-widgets/controls",
          "model_name": "HTMLModel",
          "model_module_version": "1.5.0",
          "state": {
            "_view_name": "HTMLView",
            "style": "IPY_MODEL_4864b62e49814fb8b156450ddf22fd09",
            "_dom_classes": [],
            "description": "",
            "_model_name": "HTMLModel",
            "placeholder": "​",
            "_view_module": "@jupyter-widgets/controls",
            "_model_module_version": "1.5.0",
            "value": " 574M/574M [00:15&lt;00:00, 43.6MB/s]",
            "_view_count": null,
            "_view_module_version": "1.5.0",
            "description_tooltip": null,
            "_model_module": "@jupyter-widgets/controls",
            "layout": "IPY_MODEL_55da7bd717d34829be39c6f67032249b"
          }
        },
        "c7a641865b19469991dcb6ea294259cb": {
          "model_module": "@jupyter-widgets/controls",
          "model_name": "DescriptionStyleModel",
          "model_module_version": "1.5.0",
          "state": {
            "_view_name": "StyleView",
            "_model_name": "DescriptionStyleModel",
            "description_width": "",
            "_view_module": "@jupyter-widgets/base",
            "_model_module_version": "1.5.0",
            "_view_count": null,
            "_view_module_version": "1.2.0",
            "_model_module": "@jupyter-widgets/controls"
          }
        },
        "2adba635a5e3482d904ac775669fb44a": {
          "model_module": "@jupyter-widgets/base",
          "model_name": "LayoutModel",
          "model_module_version": "1.2.0",
          "state": {
            "_view_name": "LayoutView",
            "grid_template_rows": null,
            "right": null,
            "justify_content": null,
            "_view_module": "@jupyter-widgets/base",
            "overflow": null,
            "_model_module_version": "1.2.0",
            "_view_count": null,
            "flex_flow": null,
            "width": null,
            "min_width": null,
            "border": null,
            "align_items": null,
            "bottom": null,
            "_model_module": "@jupyter-widgets/base",
            "top": null,
            "grid_column": null,
            "overflow_y": null,
            "overflow_x": null,
            "grid_auto_flow": null,
            "grid_area": null,
            "grid_template_columns": null,
            "flex": null,
            "_model_name": "LayoutModel",
            "justify_items": null,
            "grid_row": null,
            "max_height": null,
            "align_content": null,
            "visibility": null,
            "align_self": null,
            "height": null,
            "min_height": null,
            "padding": null,
            "grid_auto_rows": null,
            "grid_gap": null,
            "max_width": null,
            "order": null,
            "_view_module_version": "1.2.0",
            "grid_template_areas": null,
            "object_position": null,
            "object_fit": null,
            "grid_auto_columns": null,
            "margin": null,
            "display": null,
            "left": null
          }
        },
        "e6599a2296ed4ce196a39ba5eac52b0c": {
          "model_module": "@jupyter-widgets/controls",
          "model_name": "ProgressStyleModel",
          "model_module_version": "1.5.0",
          "state": {
            "_view_name": "StyleView",
            "_model_name": "ProgressStyleModel",
            "description_width": "",
            "_view_module": "@jupyter-widgets/base",
            "_model_module_version": "1.5.0",
            "_view_count": null,
            "_view_module_version": "1.2.0",
            "bar_color": null,
            "_model_module": "@jupyter-widgets/controls"
          }
        },
        "556d85db2e5a4dafb6bbbe75cdb49389": {
          "model_module": "@jupyter-widgets/base",
          "model_name": "LayoutModel",
          "model_module_version": "1.2.0",
          "state": {
            "_view_name": "LayoutView",
            "grid_template_rows": null,
            "right": null,
            "justify_content": null,
            "_view_module": "@jupyter-widgets/base",
            "overflow": null,
            "_model_module_version": "1.2.0",
            "_view_count": null,
            "flex_flow": null,
            "width": null,
            "min_width": null,
            "border": null,
            "align_items": null,
            "bottom": null,
            "_model_module": "@jupyter-widgets/base",
            "top": null,
            "grid_column": null,
            "overflow_y": null,
            "overflow_x": null,
            "grid_auto_flow": null,
            "grid_area": null,
            "grid_template_columns": null,
            "flex": null,
            "_model_name": "LayoutModel",
            "justify_items": null,
            "grid_row": null,
            "max_height": null,
            "align_content": null,
            "visibility": null,
            "align_self": null,
            "height": null,
            "min_height": null,
            "padding": null,
            "grid_auto_rows": null,
            "grid_gap": null,
            "max_width": null,
            "order": null,
            "_view_module_version": "1.2.0",
            "grid_template_areas": null,
            "object_position": null,
            "object_fit": null,
            "grid_auto_columns": null,
            "margin": null,
            "display": null,
            "left": null
          }
        },
        "4864b62e49814fb8b156450ddf22fd09": {
          "model_module": "@jupyter-widgets/controls",
          "model_name": "DescriptionStyleModel",
          "model_module_version": "1.5.0",
          "state": {
            "_view_name": "StyleView",
            "_model_name": "DescriptionStyleModel",
            "description_width": "",
            "_view_module": "@jupyter-widgets/base",
            "_model_module_version": "1.5.0",
            "_view_count": null,
            "_view_module_version": "1.2.0",
            "_model_module": "@jupyter-widgets/controls"
          }
        },
        "55da7bd717d34829be39c6f67032249b": {
          "model_module": "@jupyter-widgets/base",
          "model_name": "LayoutModel",
          "model_module_version": "1.2.0",
          "state": {
            "_view_name": "LayoutView",
            "grid_template_rows": null,
            "right": null,
            "justify_content": null,
            "_view_module": "@jupyter-widgets/base",
            "overflow": null,
            "_model_module_version": "1.2.0",
            "_view_count": null,
            "flex_flow": null,
            "width": null,
            "min_width": null,
            "border": null,
            "align_items": null,
            "bottom": null,
            "_model_module": "@jupyter-widgets/base",
            "top": null,
            "grid_column": null,
            "overflow_y": null,
            "overflow_x": null,
            "grid_auto_flow": null,
            "grid_area": null,
            "grid_template_columns": null,
            "flex": null,
            "_model_name": "LayoutModel",
            "justify_items": null,
            "grid_row": null,
            "max_height": null,
            "align_content": null,
            "visibility": null,
            "align_self": null,
            "height": null,
            "min_height": null,
            "padding": null,
            "grid_auto_rows": null,
            "grid_gap": null,
            "max_width": null,
            "order": null,
            "_view_module_version": "1.2.0",
            "grid_template_areas": null,
            "object_position": null,
            "object_fit": null,
            "grid_auto_columns": null,
            "margin": null,
            "display": null,
            "left": null
          }
        }
      }
    }
  },
  "cells": [
    {
      "cell_type": "code",
      "metadata": {
        "colab": {
          "base_uri": "https://localhost:8080/"
        },
        "id": "39i0SUzNJuJh",
        "outputId": "15ea4d71-0b6e-4e36-d479-450a038efced"
      },
      "source": [
        "!pip install stanza"
      ],
      "execution_count": 1,
      "outputs": [
        {
          "output_type": "stream",
          "name": "stdout",
          "text": [
            "Collecting stanza\n",
            "  Downloading stanza-1.3.0-py3-none-any.whl (432 kB)\n",
            "\u001b[?25l\r\u001b[K     |▊                               | 10 kB 23.8 MB/s eta 0:00:01\r\u001b[K     |█▌                              | 20 kB 27.4 MB/s eta 0:00:01\r\u001b[K     |██▎                             | 30 kB 18.4 MB/s eta 0:00:01\r\u001b[K     |███                             | 40 kB 12.6 MB/s eta 0:00:01\r\u001b[K     |███▉                            | 51 kB 6.1 MB/s eta 0:00:01\r\u001b[K     |████▌                           | 61 kB 6.7 MB/s eta 0:00:01\r\u001b[K     |█████▎                          | 71 kB 6.4 MB/s eta 0:00:01\r\u001b[K     |██████                          | 81 kB 7.1 MB/s eta 0:00:01\r\u001b[K     |██████▉                         | 92 kB 7.0 MB/s eta 0:00:01\r\u001b[K     |███████▋                        | 102 kB 5.6 MB/s eta 0:00:01\r\u001b[K     |████████▍                       | 112 kB 5.6 MB/s eta 0:00:01\r\u001b[K     |█████████                       | 122 kB 5.6 MB/s eta 0:00:01\r\u001b[K     |█████████▉                      | 133 kB 5.6 MB/s eta 0:00:01\r\u001b[K     |██████████▋                     | 143 kB 5.6 MB/s eta 0:00:01\r\u001b[K     |███████████▍                    | 153 kB 5.6 MB/s eta 0:00:01\r\u001b[K     |████████████▏                   | 163 kB 5.6 MB/s eta 0:00:01\r\u001b[K     |█████████████                   | 174 kB 5.6 MB/s eta 0:00:01\r\u001b[K     |█████████████▋                  | 184 kB 5.6 MB/s eta 0:00:01\r\u001b[K     |██████████████▍                 | 194 kB 5.6 MB/s eta 0:00:01\r\u001b[K     |███████████████▏                | 204 kB 5.6 MB/s eta 0:00:01\r\u001b[K     |████████████████                | 215 kB 5.6 MB/s eta 0:00:01\r\u001b[K     |████████████████▊               | 225 kB 5.6 MB/s eta 0:00:01\r\u001b[K     |█████████████████▍              | 235 kB 5.6 MB/s eta 0:00:01\r\u001b[K     |██████████████████▏             | 245 kB 5.6 MB/s eta 0:00:01\r\u001b[K     |███████████████████             | 256 kB 5.6 MB/s eta 0:00:01\r\u001b[K     |███████████████████▊            | 266 kB 5.6 MB/s eta 0:00:01\r\u001b[K     |████████████████████▌           | 276 kB 5.6 MB/s eta 0:00:01\r\u001b[K     |█████████████████████▎          | 286 kB 5.6 MB/s eta 0:00:01\r\u001b[K     |██████████████████████          | 296 kB 5.6 MB/s eta 0:00:01\r\u001b[K     |██████████████████████▊         | 307 kB 5.6 MB/s eta 0:00:01\r\u001b[K     |███████████████████████▌        | 317 kB 5.6 MB/s eta 0:00:01\r\u001b[K     |████████████████████████▎       | 327 kB 5.6 MB/s eta 0:00:01\r\u001b[K     |█████████████████████████       | 337 kB 5.6 MB/s eta 0:00:01\r\u001b[K     |█████████████████████████▉      | 348 kB 5.6 MB/s eta 0:00:01\r\u001b[K     |██████████████████████████▌     | 358 kB 5.6 MB/s eta 0:00:01\r\u001b[K     |███████████████████████████▎    | 368 kB 5.6 MB/s eta 0:00:01\r\u001b[K     |████████████████████████████    | 378 kB 5.6 MB/s eta 0:00:01\r\u001b[K     |████████████████████████████▉   | 389 kB 5.6 MB/s eta 0:00:01\r\u001b[K     |█████████████████████████████▋  | 399 kB 5.6 MB/s eta 0:00:01\r\u001b[K     |██████████████████████████████▍ | 409 kB 5.6 MB/s eta 0:00:01\r\u001b[K     |███████████████████████████████ | 419 kB 5.6 MB/s eta 0:00:01\r\u001b[K     |███████████████████████████████▉| 430 kB 5.6 MB/s eta 0:00:01\r\u001b[K     |████████████████████████████████| 432 kB 5.6 MB/s \n",
            "\u001b[?25hRequirement already satisfied: protobuf in /usr/local/lib/python3.7/dist-packages (from stanza) (3.17.3)\n",
            "Requirement already satisfied: requests in /usr/local/lib/python3.7/dist-packages (from stanza) (2.23.0)\n",
            "Requirement already satisfied: torch>=1.3.0 in /usr/local/lib/python3.7/dist-packages (from stanza) (1.9.0+cu111)\n",
            "Requirement already satisfied: numpy in /usr/local/lib/python3.7/dist-packages (from stanza) (1.19.5)\n",
            "Collecting emoji\n",
            "  Downloading emoji-1.6.0.tar.gz (168 kB)\n",
            "\u001b[K     |████████████████████████████████| 168 kB 57.3 MB/s \n",
            "\u001b[?25hRequirement already satisfied: tqdm in /usr/local/lib/python3.7/dist-packages (from stanza) (4.62.3)\n",
            "Requirement already satisfied: six in /usr/local/lib/python3.7/dist-packages (from stanza) (1.15.0)\n",
            "Requirement already satisfied: typing-extensions in /usr/local/lib/python3.7/dist-packages (from torch>=1.3.0->stanza) (3.7.4.3)\n",
            "Requirement already satisfied: idna<3,>=2.5 in /usr/local/lib/python3.7/dist-packages (from requests->stanza) (2.10)\n",
            "Requirement already satisfied: chardet<4,>=3.0.2 in /usr/local/lib/python3.7/dist-packages (from requests->stanza) (3.0.4)\n",
            "Requirement already satisfied: certifi>=2017.4.17 in /usr/local/lib/python3.7/dist-packages (from requests->stanza) (2021.5.30)\n",
            "Requirement already satisfied: urllib3!=1.25.0,!=1.25.1,<1.26,>=1.21.1 in /usr/local/lib/python3.7/dist-packages (from requests->stanza) (1.24.3)\n",
            "Building wheels for collected packages: emoji\n",
            "  Building wheel for emoji (setup.py) ... \u001b[?25l\u001b[?25hdone\n",
            "  Created wheel for emoji: filename=emoji-1.6.0-py3-none-any.whl size=168256 sha256=d9bec6551d4ac950a0982157d3944b63b0d003896041607230be4380185739af\n",
            "  Stored in directory: /root/.cache/pip/wheels/f7/d7/74/c720aaf345a042b0c2d74361873258c5e8649b7f11b2ccce49\n",
            "Successfully built emoji\n",
            "Installing collected packages: emoji, stanza\n",
            "Successfully installed emoji-1.6.0 stanza-1.3.0\n"
          ]
        }
      ]
    },
    {
      "cell_type": "code",
      "metadata": {
        "colab": {
          "base_uri": "https://localhost:8080/",
          "height": 415,
          "referenced_widgets": [
            "ee175891668e4eae842d604f93b4ccf3",
            "87a80114de2d473e86d9064c90b995d0",
            "44f98e78d2ba4425a7273738bbf1c79b",
            "2190b0aece8641cb8e97736f8fb584a3",
            "e8c57f7b10a64e2fadc56643ed24ab20",
            "ebe3923207d248899e373b5a338d59c0",
            "1b91835e7e054f86ba4b96d3a90f8777",
            "0ca72541fc0f4c26b65cc2755c46d6a8",
            "91ccb1c8b4844e1c82d0aa31bd4fb4aa",
            "793807e73a0d4731bb73b4f053a04f12",
            "e366767d7a304691b1d44937289dac2f",
            "2b82f52b2710427b968899ebcc854107",
            "c005d1975c42406395e28e1d3550e702",
            "7f871a9e780349de9056a7229d373765",
            "4565a2aec0b04248b4139d4501d84326",
            "684d6e97d55e495391242340193df668",
            "c7a641865b19469991dcb6ea294259cb",
            "2adba635a5e3482d904ac775669fb44a",
            "e6599a2296ed4ce196a39ba5eac52b0c",
            "556d85db2e5a4dafb6bbbe75cdb49389",
            "4864b62e49814fb8b156450ddf22fd09",
            "55da7bd717d34829be39c6f67032249b"
          ]
        },
        "id": "cdwdfkVkOBJ1",
        "outputId": "e6d83de0-5767-4a4c-e816-bb20ddf870d4"
      },
      "source": [
        "import stanza\n",
        "stanza.download('ru')\n",
        "nlp = stanza.Pipeline('ru')"
      ],
      "execution_count": 2,
      "outputs": [
        {
          "output_type": "display_data",
          "data": {
            "application/vnd.jupyter.widget-view+json": {
              "model_id": "ee175891668e4eae842d604f93b4ccf3",
              "version_minor": 0,
              "version_major": 2
            },
            "text/plain": [
              "Downloading https://raw.githubusercontent.com/stanfordnlp/stanza-resources/main/resources_1.3.0.json:   0%|   …"
            ]
          },
          "metadata": {}
        },
        {
          "output_type": "stream",
          "name": "stderr",
          "text": [
            "2021-10-10 01:15:15 INFO: Downloading default packages for language: ru (Russian)...\n"
          ]
        },
        {
          "output_type": "display_data",
          "data": {
            "application/vnd.jupyter.widget-view+json": {
              "model_id": "2b82f52b2710427b968899ebcc854107",
              "version_minor": 0,
              "version_major": 2
            },
            "text/plain": [
              "Downloading https://huggingface.co/stanfordnlp/stanza-ru/resolve/v1.3.0/models/default.zip:   0%|          | 0…"
            ]
          },
          "metadata": {}
        },
        {
          "output_type": "stream",
          "name": "stderr",
          "text": [
            "2021-10-10 01:15:40 INFO: Finished downloading models and saved to /root/stanza_resources.\n",
            "2021-10-10 01:15:40 INFO: Loading these models for language: ru (Russian):\n",
            "=========================\n",
            "| Processor | Package   |\n",
            "-------------------------\n",
            "| tokenize  | syntagrus |\n",
            "| pos       | syntagrus |\n",
            "| lemma     | syntagrus |\n",
            "| depparse  | syntagrus |\n",
            "| ner       | wikiner   |\n",
            "=========================\n",
            "\n",
            "2021-10-10 01:15:40 INFO: Use device: cpu\n",
            "2021-10-10 01:15:40 INFO: Loading: tokenize\n",
            "2021-10-10 01:15:40 INFO: Loading: pos\n",
            "2021-10-10 01:15:40 INFO: Loading: lemma\n",
            "2021-10-10 01:15:41 INFO: Loading: depparse\n",
            "2021-10-10 01:15:41 INFO: Loading: ner\n",
            "2021-10-10 01:15:43 INFO: Done loading processors!\n"
          ]
        }
      ]
    },
    {
      "cell_type": "code",
      "metadata": {
        "id": "qOld9ti6YXL9"
      },
      "source": [
        "import pandas as pd"
      ],
      "execution_count": 3,
      "outputs": []
    },
    {
      "cell_type": "code",
      "metadata": {
        "id": "jEqABP-7YdlY"
      },
      "source": [
        "import requests"
      ],
      "execution_count": 4,
      "outputs": []
    },
    {
      "cell_type": "code",
      "metadata": {
        "id": "FfI2Cmoo4a-l"
      },
      "source": [
        "from tqdm import tqdm"
      ],
      "execution_count": 10,
      "outputs": []
    },
    {
      "cell_type": "code",
      "metadata": {
        "id": "_EW2tgNxYYFt"
      },
      "source": [
        "link = \"http://nlp.isa.ru/framebank_parser/data/preprocessed_framebank/annotated_corpus.json\"\n",
        "data = requests.get(link).json()"
      ],
      "execution_count": 5,
      "outputs": []
    },
    {
      "cell_type": "code",
      "metadata": {
        "id": "hecdiA5pC8Dd",
        "colab": {
          "base_uri": "https://localhost:8080/"
        },
        "outputId": "b8ffb88c-baf4-48a8-dcfb-c03b87322b07"
      },
      "source": [
        "len(data)"
      ],
      "execution_count": 6,
      "outputs": [
        {
          "output_type": "execute_result",
          "data": {
            "text/plain": [
              "59861"
            ]
          },
          "metadata": {},
          "execution_count": 6
        }
      ]
    },
    {
      "cell_type": "code",
      "metadata": {
        "id": "cJvHankDPV1Y"
      },
      "source": [
        "def synt_annotate(sent_text):\n",
        "  doc = nlp(sent_text)\n",
        "  annotated_list = []\n",
        "  for sent in doc.sentences:\n",
        "    for word in sent.words:\n",
        "      word_info = {'id': word.id, 'text': word.text, 'upos': word.upos, 'head': word.head, 'deprel': word.deprel}\n",
        "      if word.feats:\n",
        "        word_info['feats'] = word.feats\n",
        "      else:\n",
        "        word_info['feats'] = '_'\n",
        "      annotated_list.append(word_info)\n",
        "  return annotated_list"
      ],
      "execution_count": 7,
      "outputs": []
    },
    {
      "cell_type": "code",
      "metadata": {
        "id": "jWw8l5sPQw9U"
      },
      "source": [
        "def join_annotations(synt_annotated, json_sentence):\n",
        "  for i, word in enumerate(synt_annotated):\n",
        "    json_sentence[i]['id'] = word['id']\n",
        "    json_sentence[i]['upos'] = word['upos']\n",
        "    json_sentence[i]['head'] = word['head']\n",
        "    json_sentence[i]['deprel'] = word['deprel']\n",
        "    json_sentence[i]['feats'] = word['feats']\n",
        "    if word['upos'] == 'PUNCT':\n",
        "      json_sentence[i]['lemma'] = word['text']\n",
        "      json_sentence[i]['feat'] = '_'\n",
        "      json_sentence[i]['sem'] = '_'\n",
        "      json_sentence[i]['sem2'] = '_'\n",
        "    if 'fillpred' not in json_sentence[i]:\n",
        "      json_sentence[i]['fillpred'] = '_'\n",
        "    if 'rolepred1' not in json_sentence[i]:\n",
        "      json_sentence[i]['rolepred1'] = '_'\n",
        "    if 'rank' not in json_sentence[i]:\n",
        "      json_sentence[i]['rank'] = '_'"
      ],
      "execution_count": 8,
      "outputs": []
    },
    {
      "cell_type": "code",
      "metadata": {
        "id": "SaKgMmHWK6vW"
      },
      "source": [
        "def example_annotation(example):\n",
        "  for sentence in example:\n",
        "    for word in sentence:\n",
        "      if word['form'] == '--':\n",
        "        word['form'] = '—'\n",
        "    sent_text = ' '.join([word['form'] for word in sentence])\n",
        "    synt_annotated = synt_annotate(sent_text)\n",
        "    join_annotations(synt_annotated, sentence)\n",
        "  return example"
      ],
      "execution_count": 9,
      "outputs": []
    },
    {
      "cell_type": "code",
      "metadata": {
        "id": "oNekIgvX91nD"
      },
      "source": [
        "example_annotation(example)"
      ],
      "execution_count": null,
      "outputs": []
    },
    {
      "cell_type": "code",
      "metadata": {
        "colab": {
          "base_uri": "https://localhost:8080/"
        },
        "id": "JrKTUfCe67Xr",
        "outputId": "2e9a9dd7-11cc-45ae-a1d0-5e9fa4738c17"
      },
      "source": [
        "link2 = 'https://raw.githubusercontent.com/olesar/framebank/master/framebank_anno_ex_items.txt'\n",
        "data2 = pd.read_csv(link2, sep='\\t')"
      ],
      "execution_count": 11,
      "outputs": [
        {
          "output_type": "stream",
          "name": "stderr",
          "text": [
            "/usr/local/lib/python3.7/dist-packages/IPython/core/interactiveshell.py:2718: DtypeWarning: Columns (11) have mixed types.Specify dtype option on import or set low_memory=False.\n",
            "  interactivity=interactivity, compiler=compiler, result=result)\n"
          ]
        }
      ]
    },
    {
      "cell_type": "code",
      "metadata": {
        "id": "YTYxB2EGjqfw"
      },
      "source": [
        "ex_list = []\n",
        "for item in data2['ExIndex']:\n",
        "  if item not in ex_list:\n",
        "    ex_list.append(item)"
      ],
      "execution_count": 12,
      "outputs": []
    },
    {
      "cell_type": "code",
      "metadata": {
        "colab": {
          "base_uri": "https://localhost:8080/"
        },
        "id": "-F5RGEESkSPA",
        "outputId": "f5c6b475-de30-4450-9ab1-ed32c2c18fe9"
      },
      "source": [
        "len(ex_list)"
      ],
      "execution_count": 44,
      "outputs": [
        {
          "output_type": "execute_result",
          "data": {
            "text/plain": [
              "38476"
            ]
          },
          "metadata": {},
          "execution_count": 44
        }
      ]
    },
    {
      "cell_type": "code",
      "metadata": {
        "colab": {
          "base_uri": "https://localhost:8080/"
        },
        "id": "aXmgfrk-7nsq",
        "outputId": "7c8c9a2c-f031-4bdb-afe5-0bc717341246"
      },
      "source": [
        "result = {}\n",
        "for ex_id in tqdm(ex_list[:3000]):\n",
        "  if str(ex_id) in data:\n",
        "    try:\n",
        "      result[str(ex_id)] = example_annotation(data[str(ex_id)])\n",
        "    except IndexError:\n",
        "      pass"
      ],
      "execution_count": 13,
      "outputs": [
        {
          "output_type": "stream",
          "name": "stderr",
          "text": [
            "100%|██████████| 3000/3000 [1:42:31<00:00,  2.05s/it]\n"
          ]
        }
      ]
    },
    {
      "cell_type": "code",
      "metadata": {
        "colab": {
          "base_uri": "https://localhost:8080/"
        },
        "id": "7DuXNTLN3u_l",
        "outputId": "ee227974-b3fe-4936-e804-ee6c41793a52"
      },
      "source": [
        "len(result)"
      ],
      "execution_count": 14,
      "outputs": [
        {
          "output_type": "execute_result",
          "data": {
            "text/plain": [
              "2858"
            ]
          },
          "metadata": {},
          "execution_count": 14
        }
      ]
    },
    {
      "cell_type": "code",
      "metadata": {
        "id": "viXdNA863HEH"
      },
      "source": [
        "df = pd.concat([pd.DataFrame(item) for item in result['35300']], ignore_index=True)\n",
        "for key in result:\n",
        "  if key != '35300':\n",
        "    ex_df = pd.concat([pd.DataFrame(item) for item in result[key]], ignore_index=True)\n",
        "    df = pd.concat([df, ex_df], ignore_index=True)"
      ],
      "execution_count": 15,
      "outputs": []
    },
    {
      "cell_type": "code",
      "metadata": {
        "colab": {
          "base_uri": "https://localhost:8080/",
          "height": 586
        },
        "id": "VcSBkHRN4ZJH",
        "outputId": "c01b2b89-a742-4f92-f366-4f34a0cc73a2"
      },
      "source": [
        "df"
      ],
      "execution_count": 16,
      "outputs": [
        {
          "output_type": "execute_result",
          "data": {
            "text/html": [
              "<div>\n",
              "<style scoped>\n",
              "    .dataframe tbody tr th:only-of-type {\n",
              "        vertical-align: middle;\n",
              "    }\n",
              "\n",
              "    .dataframe tbody tr th {\n",
              "        vertical-align: top;\n",
              "    }\n",
              "\n",
              "    .dataframe thead th {\n",
              "        text-align: right;\n",
              "    }\n",
              "</style>\n",
              "<table border=\"1\" class=\"dataframe\">\n",
              "  <thead>\n",
              "    <tr style=\"text-align: right;\">\n",
              "      <th></th>\n",
              "      <th>lemma</th>\n",
              "      <th>sem</th>\n",
              "      <th>feat</th>\n",
              "      <th>sem2</th>\n",
              "      <th>form</th>\n",
              "      <th>id</th>\n",
              "      <th>upos</th>\n",
              "      <th>head</th>\n",
              "      <th>deprel</th>\n",
              "      <th>feats</th>\n",
              "      <th>fillpred</th>\n",
              "      <th>rolepred1</th>\n",
              "      <th>rank</th>\n",
              "      <th>pred</th>\n",
              "    </tr>\n",
              "  </thead>\n",
              "  <tbody>\n",
              "    <tr>\n",
              "      <th>0</th>\n",
              "      <td>Собачкин</td>\n",
              "      <td>t:hum r:propn t:famn</td>\n",
              "      <td>S famn m anim sg nom</td>\n",
              "      <td></td>\n",
              "      <td>Собачкин</td>\n",
              "      <td>1.0</td>\n",
              "      <td>NOUN</td>\n",
              "      <td>7.0</td>\n",
              "      <td>nsubj</td>\n",
              "      <td>Animacy=Anim|Case=Nom|Gender=Masc|Number=Sing</td>\n",
              "      <td>_</td>\n",
              "      <td>_</td>\n",
              "      <td>_</td>\n",
              "      <td>NaN</td>\n",
              "    </tr>\n",
              "    <tr>\n",
              "      <th>1</th>\n",
              "      <td>в</td>\n",
              "      <td></td>\n",
              "      <td>PR</td>\n",
              "      <td></td>\n",
              "      <td>в</td>\n",
              "      <td>2.0</td>\n",
              "      <td>ADP</td>\n",
              "      <td>5.0</td>\n",
              "      <td>case</td>\n",
              "      <td>_</td>\n",
              "      <td>_</td>\n",
              "      <td>_</td>\n",
              "      <td>_</td>\n",
              "      <td>NaN</td>\n",
              "    </tr>\n",
              "    <tr>\n",
              "      <th>2</th>\n",
              "      <td>гоголевский</td>\n",
              "      <td>dt:famn r:rel der:s dt:hum</td>\n",
              "      <td>A m sg loc plen</td>\n",
              "      <td></td>\n",
              "      <td>гоголевском</td>\n",
              "      <td>3.0</td>\n",
              "      <td>ADJ</td>\n",
              "      <td>5.0</td>\n",
              "      <td>amod</td>\n",
              "      <td>Case=Loc|Degree=Pos|Gender=Masc|Number=Sing</td>\n",
              "      <td>_</td>\n",
              "      <td>_</td>\n",
              "      <td>_</td>\n",
              "      <td>NaN</td>\n",
              "    </tr>\n",
              "    <tr>\n",
              "      <th>3</th>\n",
              "      <td>\"</td>\n",
              "      <td>_</td>\n",
              "      <td>_</td>\n",
              "      <td>_</td>\n",
              "      <td>\"</td>\n",
              "      <td>4.0</td>\n",
              "      <td>PUNCT</td>\n",
              "      <td>5.0</td>\n",
              "      <td>punct</td>\n",
              "      <td>_</td>\n",
              "      <td>_</td>\n",
              "      <td>_</td>\n",
              "      <td>_</td>\n",
              "      <td>NaN</td>\n",
              "    </tr>\n",
              "    <tr>\n",
              "      <th>4</th>\n",
              "      <td>отрывок</td>\n",
              "      <td>pc:text r:concr t:text pt:part</td>\n",
              "      <td>S m inan sg loc</td>\n",
              "      <td>pt:residpart r:abstr</td>\n",
              "      <td>Отрывке</td>\n",
              "      <td>5.0</td>\n",
              "      <td>NOUN</td>\n",
              "      <td>7.0</td>\n",
              "      <td>obl</td>\n",
              "      <td>Animacy=Inan|Case=Loc|Gender=Masc|Number=Sing</td>\n",
              "      <td>_</td>\n",
              "      <td>_</td>\n",
              "      <td>_</td>\n",
              "      <td>NaN</td>\n",
              "    </tr>\n",
              "    <tr>\n",
              "      <th>...</th>\n",
              "      <td>...</td>\n",
              "      <td>...</td>\n",
              "      <td>...</td>\n",
              "      <td>...</td>\n",
              "      <td>...</td>\n",
              "      <td>...</td>\n",
              "      <td>...</td>\n",
              "      <td>...</td>\n",
              "      <td>...</td>\n",
              "      <td>...</td>\n",
              "      <td>...</td>\n",
              "      <td>...</td>\n",
              "      <td>...</td>\n",
              "      <td>...</td>\n",
              "    </tr>\n",
              "    <tr>\n",
              "      <th>277493</th>\n",
              "      <td>всерьез</td>\n",
              "      <td>dt:humq der:a</td>\n",
              "      <td>ADV,norm</td>\n",
              "      <td></td>\n",
              "      <td>всерьез</td>\n",
              "      <td>7.0</td>\n",
              "      <td>ADV</td>\n",
              "      <td>10.0</td>\n",
              "      <td>advmod</td>\n",
              "      <td>Degree=Pos</td>\n",
              "      <td>_</td>\n",
              "      <td>_</td>\n",
              "      <td>_</td>\n",
              "      <td>NaN</td>\n",
              "    </tr>\n",
              "    <tr>\n",
              "      <th>277494</th>\n",
              "      <td>это</td>\n",
              "      <td>r:dem</td>\n",
              "      <td>SPRO,gen,n,norm,sg</td>\n",
              "      <td></td>\n",
              "      <td>этого</td>\n",
              "      <td>8.0</td>\n",
              "      <td>PRON</td>\n",
              "      <td>10.0</td>\n",
              "      <td>obl</td>\n",
              "      <td>Animacy=Inan|Case=Gen|Gender=Neut|Number=Sing</td>\n",
              "      <td>_</td>\n",
              "      <td>_</td>\n",
              "      <td>_</td>\n",
              "      <td>NaN</td>\n",
              "    </tr>\n",
              "    <tr>\n",
              "      <th>277495</th>\n",
              "      <td>не</td>\n",
              "      <td></td>\n",
              "      <td>PART,norm</td>\n",
              "      <td></td>\n",
              "      <td>не</td>\n",
              "      <td>9.0</td>\n",
              "      <td>PART</td>\n",
              "      <td>10.0</td>\n",
              "      <td>advmod</td>\n",
              "      <td>_</td>\n",
              "      <td>_</td>\n",
              "      <td>_</td>\n",
              "      <td>_</td>\n",
              "      <td>NaN</td>\n",
              "    </tr>\n",
              "    <tr>\n",
              "      <th>277496</th>\n",
              "      <td>принимать</td>\n",
              "      <td>d:pref</td>\n",
              "      <td>V,act,indic,m,norm,pf,praet,sg</td>\n",
              "      <td></td>\n",
              "      <td>принял</td>\n",
              "      <td>10.0</td>\n",
              "      <td>VERB</td>\n",
              "      <td>2.0</td>\n",
              "      <td>conj</td>\n",
              "      <td>Aspect=Perf|Gender=Masc|Mood=Ind|Number=Sing|T...</td>\n",
              "      <td>_</td>\n",
              "      <td>_</td>\n",
              "      <td>_</td>\n",
              "      <td>NaN</td>\n",
              "    </tr>\n",
              "    <tr>\n",
              "      <th>277497</th>\n",
              "      <td>.</td>\n",
              "      <td>_</td>\n",
              "      <td>_</td>\n",
              "      <td>_</td>\n",
              "      <td>.</td>\n",
              "      <td>11.0</td>\n",
              "      <td>PUNCT</td>\n",
              "      <td>2.0</td>\n",
              "      <td>punct</td>\n",
              "      <td>_</td>\n",
              "      <td>_</td>\n",
              "      <td>_</td>\n",
              "      <td>_</td>\n",
              "      <td>NaN</td>\n",
              "    </tr>\n",
              "  </tbody>\n",
              "</table>\n",
              "<p>277498 rows × 14 columns</p>\n",
              "</div>"
            ],
            "text/plain": [
              "              lemma                             sem  ... rank pred\n",
              "0          Собачкин            t:hum r:propn t:famn  ...    _  NaN\n",
              "1                 в                                  ...    _  NaN\n",
              "2       гоголевский      dt:famn r:rel der:s dt:hum  ...    _  NaN\n",
              "3                 \"                               _  ...    _  NaN\n",
              "4           отрывок  pc:text r:concr t:text pt:part  ...    _  NaN\n",
              "...             ...                             ...  ...  ...  ...\n",
              "277493      всерьез                   dt:humq der:a  ...    _  NaN\n",
              "277494          это                           r:dem  ...    _  NaN\n",
              "277495           не                                  ...    _  NaN\n",
              "277496    принимать                          d:pref  ...    _  NaN\n",
              "277497            .                               _  ...    _  NaN\n",
              "\n",
              "[277498 rows x 14 columns]"
            ]
          },
          "metadata": {},
          "execution_count": 16
        }
      ]
    },
    {
      "cell_type": "code",
      "metadata": {
        "colab": {
          "base_uri": "https://localhost:8080/"
        },
        "id": "YHyXnfTVCE1D",
        "outputId": "3ec577c8-060f-4368-ec08-85fec095ba2b"
      },
      "source": [
        "df['upos2'] = 'PUNCT'\n",
        "for idx, line in enumerate(df.isna()['feat']):\n",
        "  if df['feat'].notna()[idx] and df['feat'][idx] != '_':\n",
        "    df['upos2'][idx] = df['feat'][idx].split()[0]"
      ],
      "execution_count": 17,
      "outputs": [
        {
          "output_type": "stream",
          "name": "stderr",
          "text": [
            "/usr/local/lib/python3.7/dist-packages/ipykernel_launcher.py:4: SettingWithCopyWarning: \n",
            "A value is trying to be set on a copy of a slice from a DataFrame\n",
            "\n",
            "See the caveats in the documentation: https://pandas.pydata.org/pandas-docs/stable/user_guide/indexing.html#returning-a-view-versus-a-copy\n",
            "  after removing the cwd from sys.path.\n"
          ]
        }
      ]
    },
    {
      "cell_type": "markdown",
      "metadata": {
        "id": "_GauTvqo2TJ2"
      },
      "source": [
        "Дальше можно создавать любые запросы, которые можно выполнить с подобными данными в датафрейме."
      ]
    },
    {
      "cell_type": "code",
      "metadata": {
        "colab": {
          "base_uri": "https://localhost:8080/"
        },
        "id": "3Ar4aL6B_krL",
        "outputId": "b65a0375-7156-47aa-a9e3-cd6d6c123bb7"
      },
      "source": [
        "#части речи и части речи\n",
        "df.loc[df['upos2'] == 'V']['upos'].value_counts()"
      ],
      "execution_count": 20,
      "outputs": [
        {
          "output_type": "execute_result",
          "data": {
            "text/plain": [
              "VERB     33100\n",
              "AUX       1800\n",
              "NOUN       157\n",
              "ADJ        146\n",
              "PROPN       26\n",
              "ADV         10\n",
              "INTJ         4\n",
              "ADP          2\n",
              "DET          1\n",
              "PART         1\n",
              "Name: upos, dtype: int64"
            ]
          },
          "metadata": {},
          "execution_count": 20
        }
      ]
    },
    {
      "cell_type": "code",
      "metadata": {
        "colab": {
          "base_uri": "https://localhost:8080/",
          "height": 110
        },
        "id": "wr2V7DESKqNw",
        "outputId": "9ebfc2de-c0ef-4926-9a61-603a177e6d51"
      },
      "source": [
        "df.loc[(df['upos'] == 'ADP') & (df['upos2'] == 'V')]"
      ],
      "execution_count": 21,
      "outputs": [
        {
          "output_type": "execute_result",
          "data": {
            "text/html": [
              "<div>\n",
              "<style scoped>\n",
              "    .dataframe tbody tr th:only-of-type {\n",
              "        vertical-align: middle;\n",
              "    }\n",
              "\n",
              "    .dataframe tbody tr th {\n",
              "        vertical-align: top;\n",
              "    }\n",
              "\n",
              "    .dataframe thead th {\n",
              "        text-align: right;\n",
              "    }\n",
              "</style>\n",
              "<table border=\"1\" class=\"dataframe\">\n",
              "  <thead>\n",
              "    <tr style=\"text-align: right;\">\n",
              "      <th></th>\n",
              "      <th>lemma</th>\n",
              "      <th>sem</th>\n",
              "      <th>feat</th>\n",
              "      <th>sem2</th>\n",
              "      <th>form</th>\n",
              "      <th>id</th>\n",
              "      <th>upos</th>\n",
              "      <th>head</th>\n",
              "      <th>deprel</th>\n",
              "      <th>feats</th>\n",
              "      <th>fillpred</th>\n",
              "      <th>rolepred1</th>\n",
              "      <th>rank</th>\n",
              "      <th>pred</th>\n",
              "      <th>upos2</th>\n",
              "    </tr>\n",
              "  </thead>\n",
              "  <tbody>\n",
              "    <tr>\n",
              "      <th>121443</th>\n",
              "      <td>благодарить</td>\n",
              "      <td>t:speech ca:noncaus</td>\n",
              "      <td>V ipf tran ger act praes</td>\n",
              "      <td></td>\n",
              "      <td>благодаря</td>\n",
              "      <td>4.0</td>\n",
              "      <td>ADP</td>\n",
              "      <td>5.0</td>\n",
              "      <td>case</td>\n",
              "      <td>_</td>\n",
              "      <td>_</td>\n",
              "      <td>_</td>\n",
              "      <td>Предикат</td>\n",
              "      <td>13319.0</td>\n",
              "      <td>V</td>\n",
              "    </tr>\n",
              "    <tr>\n",
              "      <th>123318</th>\n",
              "      <td>благодарить</td>\n",
              "      <td>t:speech ca:noncaus</td>\n",
              "      <td>V ipf tran ger act praes</td>\n",
              "      <td></td>\n",
              "      <td>благодаря</td>\n",
              "      <td>27.0</td>\n",
              "      <td>ADP</td>\n",
              "      <td>28.0</td>\n",
              "      <td>case</td>\n",
              "      <td>_</td>\n",
              "      <td>_</td>\n",
              "      <td>_</td>\n",
              "      <td>Предикат</td>\n",
              "      <td>17180.0</td>\n",
              "      <td>V</td>\n",
              "    </tr>\n",
              "  </tbody>\n",
              "</table>\n",
              "</div>"
            ],
            "text/plain": [
              "              lemma                  sem  ...     pred upos2\n",
              "121443  благодарить  t:speech ca:noncaus  ...  13319.0     V\n",
              "123318  благодарить  t:speech ca:noncaus  ...  17180.0     V\n",
              "\n",
              "[2 rows x 15 columns]"
            ]
          },
          "metadata": {},
          "execution_count": 21
        }
      ]
    },
    {
      "cell_type": "code",
      "metadata": {
        "colab": {
          "base_uri": "https://localhost:8080/"
        },
        "id": "7zRygJBK1Wx9",
        "outputId": "7f93dba5-a480-42cf-9ae1-9037b1f91bc7"
      },
      "source": [
        "df.loc[[121444, 123319]]['form']"
      ],
      "execution_count": 30,
      "outputs": [
        {
          "output_type": "execute_result",
          "data": {
            "text/plain": [
              "121444    Бога\n",
              "123319    Бога\n",
              "Name: form, dtype: object"
            ]
          },
          "metadata": {},
          "execution_count": 30
        }
      ]
    },
    {
      "cell_type": "code",
      "metadata": {
        "colab": {
          "base_uri": "https://localhost:8080/"
        },
        "id": "yDDc1yYK-nAt",
        "outputId": "8f61ecc4-de5f-47cd-88b3-3b8244c9dcb8"
      },
      "source": [
        "#части речи и роли\n",
        "df.loc[df['upos'] == 'PRON']['rolepred1'].value_counts()[1:4]"
      ],
      "execution_count": 18,
      "outputs": [
        {
          "output_type": "execute_result",
          "data": {
            "text/plain": [
              "субъект психологического состояния    253\n",
              "агенс                                 155\n",
              "причина                               113\n",
              "Name: rolepred1, dtype: int64"
            ]
          },
          "metadata": {},
          "execution_count": 18
        }
      ]
    },
    {
      "cell_type": "code",
      "metadata": {
        "colab": {
          "base_uri": "https://localhost:8080/"
        },
        "id": "VFj3Ouam_7BY",
        "outputId": "427c9d06-d485-4a09-f549-3e919f63baca"
      },
      "source": [
        "#вершина и части речи\n",
        "df.loc[df['deprel'] == 'root']['upos'].value_counts()[:5]"
      ],
      "execution_count": 34,
      "outputs": [
        {
          "output_type": "execute_result",
          "data": {
            "text/plain": [
              "VERB     11923\n",
              "NOUN      1797\n",
              "PUNCT     1461\n",
              "ADJ       1402\n",
              "ADV        583\n",
              "Name: upos, dtype: int64"
            ]
          },
          "metadata": {},
          "execution_count": 34
        }
      ]
    },
    {
      "cell_type": "code",
      "metadata": {
        "colab": {
          "base_uri": "https://localhost:8080/"
        },
        "id": "HPHoDjty2WeX",
        "outputId": "840ac3d9-db40-4faf-b88a-27ff87470566"
      },
      "source": [
        "df.loc[df['deprel'] == 'root']['upos2'].value_counts()[:5]"
      ],
      "execution_count": 35,
      "outputs": [
        {
          "output_type": "execute_result",
          "data": {
            "text/plain": [
              "V          10823\n",
              "PUNCT       1842\n",
              "S           1666\n",
              "A            899\n",
              "PRAEDIC      444\n",
              "Name: upos2, dtype: int64"
            ]
          },
          "metadata": {},
          "execution_count": 35
        }
      ]
    },
    {
      "cell_type": "code",
      "metadata": {
        "colab": {
          "base_uri": "https://localhost:8080/"
        },
        "id": "e1o2MDILAPSg",
        "outputId": "61734b25-fe74-48a0-f84d-2edeaadf205b"
      },
      "source": [
        "#вершина и роли\n",
        "df.loc[df['deprel'] == 'obl']['rolepred1'].value_counts()[:4]"
      ],
      "execution_count": 43,
      "outputs": [
        {
          "output_type": "execute_result",
          "data": {
            "text/plain": [
              "_                 22822\n",
              "причина             108\n",
              "контрагент           90\n",
              "конечная точка       78\n",
              "Name: rolepred1, dtype: int64"
            ]
          },
          "metadata": {},
          "execution_count": 43
        }
      ]
    },
    {
      "cell_type": "code",
      "metadata": {
        "colab": {
          "base_uri": "https://localhost:8080/"
        },
        "id": "rqKuTvZUA4aa",
        "outputId": "9914632c-c5da-45ee-d686-2149be8605a5"
      },
      "source": [
        "df['upos'].value_counts()[:5]"
      ],
      "execution_count": 39,
      "outputs": [
        {
          "output_type": "execute_result",
          "data": {
            "text/plain": [
              "PUNCT    60045\n",
              "NOUN     52501\n",
              "VERB     37361\n",
              "ADP      23685\n",
              "ADJ      20439\n",
              "Name: upos, dtype: int64"
            ]
          },
          "metadata": {},
          "execution_count": 39
        }
      ]
    },
    {
      "cell_type": "code",
      "metadata": {
        "colab": {
          "base_uri": "https://localhost:8080/"
        },
        "id": "qN_2r6A63V9G",
        "outputId": "13678310-1620-4853-9e50-32c49c2fcffc"
      },
      "source": [
        "df['upos2'].value_counts()[:5]"
      ],
      "execution_count": 40,
      "outputs": [
        {
          "output_type": "execute_result",
          "data": {
            "text/plain": [
              "PUNCT    62247\n",
              "S        55297\n",
              "V        35247\n",
              "PR       22496\n",
              "CONJ     17713\n",
              "Name: upos2, dtype: int64"
            ]
          },
          "metadata": {},
          "execution_count": 40
        }
      ]
    },
    {
      "cell_type": "code",
      "metadata": {
        "colab": {
          "base_uri": "https://localhost:8080/",
          "height": 636
        },
        "id": "b1MShVDyB0Xc",
        "outputId": "a189cac5-c085-4f5c-8b37-5024e0270714"
      },
      "source": [
        "df.loc[df['id'] == 1]"
      ],
      "execution_count": 41,
      "outputs": [
        {
          "output_type": "execute_result",
          "data": {
            "text/html": [
              "<div>\n",
              "<style scoped>\n",
              "    .dataframe tbody tr th:only-of-type {\n",
              "        vertical-align: middle;\n",
              "    }\n",
              "\n",
              "    .dataframe tbody tr th {\n",
              "        vertical-align: top;\n",
              "    }\n",
              "\n",
              "    .dataframe thead th {\n",
              "        text-align: right;\n",
              "    }\n",
              "</style>\n",
              "<table border=\"1\" class=\"dataframe\">\n",
              "  <thead>\n",
              "    <tr style=\"text-align: right;\">\n",
              "      <th></th>\n",
              "      <th>lemma</th>\n",
              "      <th>sem</th>\n",
              "      <th>feat</th>\n",
              "      <th>sem2</th>\n",
              "      <th>form</th>\n",
              "      <th>id</th>\n",
              "      <th>upos</th>\n",
              "      <th>head</th>\n",
              "      <th>deprel</th>\n",
              "      <th>feats</th>\n",
              "      <th>fillpred</th>\n",
              "      <th>rolepred1</th>\n",
              "      <th>rank</th>\n",
              "      <th>pred</th>\n",
              "      <th>upos2</th>\n",
              "    </tr>\n",
              "  </thead>\n",
              "  <tbody>\n",
              "    <tr>\n",
              "      <th>0</th>\n",
              "      <td>Собачкин</td>\n",
              "      <td>t:hum r:propn t:famn</td>\n",
              "      <td>S famn m anim sg nom</td>\n",
              "      <td></td>\n",
              "      <td>Собачкин</td>\n",
              "      <td>1.0</td>\n",
              "      <td>NOUN</td>\n",
              "      <td>7.0</td>\n",
              "      <td>nsubj</td>\n",
              "      <td>Animacy=Anim|Case=Nom|Gender=Masc|Number=Sing</td>\n",
              "      <td>_</td>\n",
              "      <td>_</td>\n",
              "      <td>_</td>\n",
              "      <td>NaN</td>\n",
              "      <td>S</td>\n",
              "    </tr>\n",
              "    <tr>\n",
              "      <th>58</th>\n",
              "      <td>не</td>\n",
              "      <td></td>\n",
              "      <td>PART</td>\n",
              "      <td></td>\n",
              "      <td>не</td>\n",
              "      <td>1.0</td>\n",
              "      <td>PART</td>\n",
              "      <td>2.0</td>\n",
              "      <td>advmod</td>\n",
              "      <td>_</td>\n",
              "      <td>_</td>\n",
              "      <td>_</td>\n",
              "      <td>_</td>\n",
              "      <td>NaN</td>\n",
              "      <td>PART</td>\n",
              "    </tr>\n",
              "    <tr>\n",
              "      <th>80</th>\n",
              "      <td>идти</td>\n",
              "      <td>ca:noncaus t:move d:root</td>\n",
              "      <td>V ipf intr act sg 2p imper</td>\n",
              "      <td>ca:noncaus t:move d:root</td>\n",
              "      <td>Иди</td>\n",
              "      <td>1.0</td>\n",
              "      <td>VERB</td>\n",
              "      <td>0.0</td>\n",
              "      <td>root</td>\n",
              "      <td>Aspect=Imp|Mood=Imp|Number=Sing|Person=2|VerbF...</td>\n",
              "      <td>_</td>\n",
              "      <td>_</td>\n",
              "      <td>_</td>\n",
              "      <td>NaN</td>\n",
              "      <td>V</td>\n",
              "    </tr>\n",
              "    <tr>\n",
              "      <th>105</th>\n",
              "      <td>ну</td>\n",
              "      <td></td>\n",
              "      <td>PART</td>\n",
              "      <td></td>\n",
              "      <td>Ну</td>\n",
              "      <td>1.0</td>\n",
              "      <td>PART</td>\n",
              "      <td>9.0</td>\n",
              "      <td>parataxis</td>\n",
              "      <td>_</td>\n",
              "      <td>_</td>\n",
              "      <td>_</td>\n",
              "      <td>_</td>\n",
              "      <td>NaN</td>\n",
              "      <td>PART</td>\n",
              "    </tr>\n",
              "    <tr>\n",
              "      <th>114</th>\n",
              "      <td>спешить</td>\n",
              "      <td>der:v</td>\n",
              "      <td>V ipf intr act pl praes 3p indic</td>\n",
              "      <td>der:v</td>\n",
              "      <td>спешат</td>\n",
              "      <td>1.0</td>\n",
              "      <td>VERB</td>\n",
              "      <td>0.0</td>\n",
              "      <td>root</td>\n",
              "      <td>Aspect=Imp|Mood=Ind|Number=Plur|Person=3|Tense...</td>\n",
              "      <td>_</td>\n",
              "      <td>_</td>\n",
              "      <td>_</td>\n",
              "      <td>NaN</td>\n",
              "      <td>V</td>\n",
              "    </tr>\n",
              "    <tr>\n",
              "      <th>...</th>\n",
              "      <td>...</td>\n",
              "      <td>...</td>\n",
              "      <td>...</td>\n",
              "      <td>...</td>\n",
              "      <td>...</td>\n",
              "      <td>...</td>\n",
              "      <td>...</td>\n",
              "      <td>...</td>\n",
              "      <td>...</td>\n",
              "      <td>...</td>\n",
              "      <td>...</td>\n",
              "      <td>...</td>\n",
              "      <td>...</td>\n",
              "      <td>...</td>\n",
              "      <td>...</td>\n",
              "    </tr>\n",
              "    <tr>\n",
              "      <th>277413</th>\n",
              "      <td>в</td>\n",
              "      <td></td>\n",
              "      <td>PR,norm</td>\n",
              "      <td></td>\n",
              "      <td>В</td>\n",
              "      <td>1.0</td>\n",
              "      <td>ADP</td>\n",
              "      <td>2.0</td>\n",
              "      <td>case</td>\n",
              "      <td>_</td>\n",
              "      <td>_</td>\n",
              "      <td>_</td>\n",
              "      <td>_</td>\n",
              "      <td>NaN</td>\n",
              "      <td>PR,norm</td>\n",
              "    </tr>\n",
              "    <tr>\n",
              "      <th>277444</th>\n",
              "      <td>чиновник</td>\n",
              "      <td>t:hum r:concr der:s</td>\n",
              "      <td>S,anim,m,nom,norm,sg</td>\n",
              "      <td>t:hum r:concr ev:neg</td>\n",
              "      <td>Чиновник</td>\n",
              "      <td>1.0</td>\n",
              "      <td>NOUN</td>\n",
              "      <td>2.0</td>\n",
              "      <td>nsubj</td>\n",
              "      <td>Animacy=Anim|Case=Nom|Gender=Masc|Number=Sing</td>\n",
              "      <td>_</td>\n",
              "      <td>_</td>\n",
              "      <td>_</td>\n",
              "      <td>NaN</td>\n",
              "      <td>S,anim,m,nom,norm,sg</td>\n",
              "    </tr>\n",
              "    <tr>\n",
              "      <th>277464</th>\n",
              "      <td>так</td>\n",
              "      <td>der:a dt:degr r:dem</td>\n",
              "      <td>ADVPRO,norm</td>\n",
              "      <td>der:apro dt:degr r:dem</td>\n",
              "      <td>Так</td>\n",
              "      <td>1.0</td>\n",
              "      <td>ADV</td>\n",
              "      <td>3.0</td>\n",
              "      <td>advmod</td>\n",
              "      <td>Degree=Pos</td>\n",
              "      <td>_</td>\n",
              "      <td>_</td>\n",
              "      <td>_</td>\n",
              "      <td>NaN</td>\n",
              "      <td>ADVPRO,norm</td>\n",
              "    </tr>\n",
              "    <tr>\n",
              "      <th>277468</th>\n",
              "      <td>герр</td>\n",
              "      <td>t:hum r:propn r:concr t:famn</td>\n",
              "      <td>S,anim,m,nom,norm,sg</td>\n",
              "      <td></td>\n",
              "      <td>Герр</td>\n",
              "      <td>1.0</td>\n",
              "      <td>PROPN</td>\n",
              "      <td>4.0</td>\n",
              "      <td>nsubj</td>\n",
              "      <td>Animacy=Anim|Case=Nom|Gender=Masc|Number=Sing</td>\n",
              "      <td>_</td>\n",
              "      <td>_</td>\n",
              "      <td>_</td>\n",
              "      <td>NaN</td>\n",
              "      <td>S,anim,m,nom,norm,sg</td>\n",
              "    </tr>\n",
              "    <tr>\n",
              "      <th>277487</th>\n",
              "      <td>я</td>\n",
              "      <td>r:pers</td>\n",
              "      <td>SPRO,1p,anim,nom,norm,sg</td>\n",
              "      <td></td>\n",
              "      <td>Я</td>\n",
              "      <td>1.0</td>\n",
              "      <td>PRON</td>\n",
              "      <td>2.0</td>\n",
              "      <td>nsubj</td>\n",
              "      <td>Case=Nom|Number=Sing|Person=1</td>\n",
              "      <td>_</td>\n",
              "      <td>_</td>\n",
              "      <td>_</td>\n",
              "      <td>NaN</td>\n",
              "      <td>SPRO,1p,anim,nom,norm,sg</td>\n",
              "    </tr>\n",
              "  </tbody>\n",
              "</table>\n",
              "<p>17987 rows × 15 columns</p>\n",
              "</div>"
            ],
            "text/plain": [
              "           lemma                           sem  ... pred                     upos2\n",
              "0       Собачкин          t:hum r:propn t:famn  ...  NaN                         S\n",
              "58            не                                ...  NaN                      PART\n",
              "80          идти      ca:noncaus t:move d:root  ...  NaN                         V\n",
              "105           ну                                ...  NaN                      PART\n",
              "114      спешить                         der:v  ...  NaN                         V\n",
              "...          ...                           ...  ...  ...                       ...\n",
              "277413         в                                ...  NaN                   PR,norm\n",
              "277444  чиновник           t:hum r:concr der:s  ...  NaN      S,anim,m,nom,norm,sg\n",
              "277464       так           der:a dt:degr r:dem  ...  NaN               ADVPRO,norm\n",
              "277468      герр  t:hum r:propn r:concr t:famn  ...  NaN      S,anim,m,nom,norm,sg\n",
              "277487         я                        r:pers  ...  NaN  SPRO,1p,anim,nom,norm,sg\n",
              "\n",
              "[17987 rows x 15 columns]"
            ]
          },
          "metadata": {},
          "execution_count": 41
        }
      ]
    },
    {
      "cell_type": "code",
      "metadata": {
        "colab": {
          "base_uri": "https://localhost:8080/"
        },
        "id": "c_hv0rGsmY75",
        "outputId": "1aad5bd9-792a-4f1b-c632-566e20e24d9f"
      },
      "source": [
        "df.loc[df['rolepred1'] == 'субъект психологического состояния']['upos'].value_counts()"
      ],
      "execution_count": 42,
      "outputs": [
        {
          "output_type": "execute_result",
          "data": {
            "text/plain": [
              "PRON     253\n",
              "NOUN     145\n",
              "PROPN     46\n",
              "DET       11\n",
              "ADJ        3\n",
              "VERB       2\n",
              "NUM        1\n",
              "Name: upos, dtype: int64"
            ]
          },
          "metadata": {},
          "execution_count": 42
        }
      ]
    }
  ]
}